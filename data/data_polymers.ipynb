{
 "cells": [
  {
   "cell_type": "code",
   "execution_count": 7,
   "metadata": {},
   "outputs": [],
   "source": [
    "import numpy as np\n",
    "import pandas as pd\n",
    "from psmiles.psmiles import PolymerSmiles\n",
    "from rdkit import Chem\n",
    "from importlib import util\n",
    "\n",
    "\n",
    "random_seed = 123\n",
    "np.random.seed(random_seed)"
   ]
  },
  {
   "cell_type": "code",
   "execution_count": 2,
   "metadata": {},
   "outputs": [],
   "source": [
    "class PSmiles(PolymerSmiles):\n",
    "    @property\n",
    "    def fingerprint_miniLM(self) -> np.ndarray:\n",
    "        \"\"\"Compute the miniLM fingerprint\n",
    "        \"\"\"\n",
    "        assert util.find_spec(\"sentence_transformers\"), (\n",
    "            \"MiniLM fingerprints require the 'sentence-transformers' Python package.\"\n",
    "            \" Please install with \"\n",
    "            \"`pip install 'psmiles[polyBERT]@git+https://github.com/\"\n",
    "            \"Ramprasad-Group/psmiles.git'` \"\n",
    "            \"Or \"\n",
    "            \"`poetry add git+https://github.com/\"\n",
    "            \"Ramprasad-Group/psmiles.git -E polyBERT` \"\n",
    "        )\n",
    "\n",
    "        from sentence_transformers import SentenceTransformer\n",
    "\n",
    "        polyBERT = SentenceTransformer(\"all-MiniLM-L6-v2\")\n",
    "\n",
    "        return polyBERT.encode([self.canonicalize.psmiles], show_progress_bar=False)[0]\n",
    "    "
   ]
  },
  {
   "cell_type": "code",
   "execution_count": 3,
   "metadata": {},
   "outputs": [],
   "source": [
    "\n",
    "def generate_fingerprint_miniLM(smiles):\n",
    "    ps = PSmiles(smiles)\n",
    "    fingerprint = np.array(ps.fingerprint_miniLM)\n",
    "    if fingerprint.size > 0 and isinstance(fingerprint[0], str):\n",
    "        fingerprint = np.array([float(x) for x in fingerprint])\n",
    "    return fingerprint\n",
    "\n",
    "def generate_fingerprint_circular(smiles):\n",
    "    ps = PSmiles(smiles)\n",
    "    fingerprint = np.array(ps.fingerprint_circular)\n",
    "    if fingerprint.size > 0 and isinstance(fingerprint[0], str):\n",
    "        fingerprint = np.array([float(x) for x in fingerprint])\n",
    "    return fingerprint\n",
    "\n",
    "def generate_fingerprint_polyBERT(smiles):\n",
    "    ps = PSmiles(smiles)\n",
    "    fingerprint = np.array(ps.fingerprint_polyBERT)\n",
    "    if fingerprint.size > 0 and isinstance(fingerprint[0], str):\n",
    "        fingerprint = np.array([float(x) for x in fingerprint])\n",
    "    return fingerprint"
   ]
  },
  {
   "cell_type": "code",
   "execution_count": 4,
   "metadata": {},
   "outputs": [
    {
     "data": {
      "text/html": [
       "<div>\n",
       "<style scoped>\n",
       "    .dataframe tbody tr th:only-of-type {\n",
       "        vertical-align: middle;\n",
       "    }\n",
       "\n",
       "    .dataframe tbody tr th {\n",
       "        vertical-align: top;\n",
       "    }\n",
       "\n",
       "    .dataframe thead th {\n",
       "        text-align: right;\n",
       "    }\n",
       "</style>\n",
       "<table border=\"1\" class=\"dataframe\">\n",
       "  <thead>\n",
       "    <tr style=\"text-align: right;\">\n",
       "      <th></th>\n",
       "      <th>Unnamed: 0</th>\n",
       "      <th>smiles</th>\n",
       "      <th>property</th>\n",
       "      <th>value</th>\n",
       "    </tr>\n",
       "  </thead>\n",
       "  <tbody>\n",
       "    <tr>\n",
       "      <th>0</th>\n",
       "      <td>0</td>\n",
       "      <td>[*]CC([*])C</td>\n",
       "      <td>Eat</td>\n",
       "      <td>-5.14</td>\n",
       "    </tr>\n",
       "    <tr>\n",
       "      <th>1</th>\n",
       "      <td>1</td>\n",
       "      <td>[*]CC([*])F</td>\n",
       "      <td>Eat</td>\n",
       "      <td>-5.18</td>\n",
       "    </tr>\n",
       "    <tr>\n",
       "      <th>2</th>\n",
       "      <td>2</td>\n",
       "      <td>[*]CC([*])(F)F</td>\n",
       "      <td>Eat</td>\n",
       "      <td>-5.21</td>\n",
       "    </tr>\n",
       "    <tr>\n",
       "      <th>3</th>\n",
       "      <td>3</td>\n",
       "      <td>[*]C(F)C([*])(F)F</td>\n",
       "      <td>Eat</td>\n",
       "      <td>-5.11</td>\n",
       "    </tr>\n",
       "    <tr>\n",
       "      <th>4</th>\n",
       "      <td>4</td>\n",
       "      <td>[*]CCC(F)(F)C([*])(F)F</td>\n",
       "      <td>Eat</td>\n",
       "      <td>-5.21</td>\n",
       "    </tr>\n",
       "  </tbody>\n",
       "</table>\n",
       "</div>"
      ],
      "text/plain": [
       "   Unnamed: 0                  smiles property  value\n",
       "0           0             [*]CC([*])C      Eat  -5.14\n",
       "1           1             [*]CC([*])F      Eat  -5.18\n",
       "2           2          [*]CC([*])(F)F      Eat  -5.21\n",
       "3           3       [*]C(F)C([*])(F)F      Eat  -5.11\n",
       "4           4  [*]CCC(F)(F)C([*])(F)F      Eat  -5.21"
      ]
     },
     "execution_count": 4,
     "metadata": {},
     "output_type": "execute_result"
    }
   ],
   "source": [
    "df = pd.read_csv('polymers.csv')\n",
    "df.head()"
   ]
  },
  {
   "cell_type": "code",
   "execution_count": 5,
   "metadata": {},
   "outputs": [
    {
     "data": {
      "text/html": [
       "<div>\n",
       "<style scoped>\n",
       "    .dataframe tbody tr th:only-of-type {\n",
       "        vertical-align: middle;\n",
       "    }\n",
       "\n",
       "    .dataframe tbody tr th {\n",
       "        vertical-align: top;\n",
       "    }\n",
       "\n",
       "    .dataframe thead th {\n",
       "        text-align: right;\n",
       "    }\n",
       "</style>\n",
       "<table border=\"1\" class=\"dataframe\">\n",
       "  <thead>\n",
       "    <tr style=\"text-align: right;\">\n",
       "      <th></th>\n",
       "      <th>smiles</th>\n",
       "      <th>Egc</th>\n",
       "    </tr>\n",
       "  </thead>\n",
       "  <tbody>\n",
       "    <tr>\n",
       "      <th>822</th>\n",
       "      <td>[*]C[*]</td>\n",
       "      <td>6.8972</td>\n",
       "    </tr>\n",
       "    <tr>\n",
       "      <th>823</th>\n",
       "      <td>[*]CC([*])C</td>\n",
       "      <td>6.5196</td>\n",
       "    </tr>\n",
       "    <tr>\n",
       "      <th>824</th>\n",
       "      <td>[*]CC([*])CC</td>\n",
       "      <td>6.5170</td>\n",
       "    </tr>\n",
       "    <tr>\n",
       "      <th>825</th>\n",
       "      <td>[*]CC([*])CCC</td>\n",
       "      <td>6.7336</td>\n",
       "    </tr>\n",
       "    <tr>\n",
       "      <th>826</th>\n",
       "      <td>[*]CC([*])CC(C)C</td>\n",
       "      <td>6.7394</td>\n",
       "    </tr>\n",
       "  </tbody>\n",
       "</table>\n",
       "</div>"
      ],
      "text/plain": [
       "               smiles     Egc\n",
       "822           [*]C[*]  6.8972\n",
       "823       [*]CC([*])C  6.5196\n",
       "824      [*]CC([*])CC  6.5170\n",
       "825     [*]CC([*])CCC  6.7336\n",
       "826  [*]CC([*])CC(C)C  6.7394"
      ]
     },
     "execution_count": 5,
     "metadata": {},
     "output_type": "execute_result"
    }
   ],
   "source": [
    "df = pd.read_csv('polymers.csv')\n",
    "df = df[df['property'] == 'Egc']\n",
    "desired_columns = ['smiles','value']\n",
    "df = df[desired_columns]\n",
    "df.rename(columns={'value':'Egc'}, inplace= True)\n",
    "df.head()\n"
   ]
  },
  {
   "cell_type": "code",
   "execution_count": 6,
   "metadata": {},
   "outputs": [],
   "source": [
    "df[\"fingerprint_circular\"] = df[\"smiles\"].apply(generate_fingerprint_circular)\n",
    "df[\"fingerprint_polyBERT\"] = df[\"smiles\"].apply(generate_fingerprint_polyBERT)\n",
    "df[\"fingerprint_miniLM\"] = df[\"smiles\"].apply(generate_fingerprint_miniLM)\n",
    "df.to_pickle(\"updated_polymers.pth\")\n"
   ]
  }
 ],
 "metadata": {
  "kernelspec": {
   "display_name": "Python 3",
   "language": "python",
   "name": "python3"
  },
  "language_info": {
   "codemirror_mode": {
    "name": "ipython",
    "version": 3
   },
   "file_extension": ".py",
   "mimetype": "text/x-python",
   "name": "python",
   "nbconvert_exporter": "python",
   "pygments_lexer": "ipython3",
   "version": "3.10.12"
  },
  "orig_nbformat": 4
 },
 "nbformat": 4,
 "nbformat_minor": 2
}
